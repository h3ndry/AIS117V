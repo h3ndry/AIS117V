{
 "cells": [
  {
   "cell_type": "code",
   "execution_count": 1,
   "id": "98c4c934-c503-4de6-8631-10b938804296",
   "metadata": {},
   "outputs": [
    {
     "name": "stdout",
     "output_type": "stream",
     "text": [
      "hello world\n"
     ]
    }
   ],
   "source": [
    "print(\"hello world\")"
   ]
  },
  {
   "cell_type": "code",
   "execution_count": 4,
   "id": "a41bd5e9-85f2-4ec7-973c-37419ab1cf6d",
   "metadata": {},
   "outputs": [
    {
     "name": "stdout",
     "output_type": "stream",
     "text": [
      "1\t4\t7\t"
     ]
    }
   ],
   "source": [
    "for number in range(1,10,3):\n",
    "    print(number, end='\\t')"
   ]
  },
  {
   "cell_type": "code",
   "execution_count": 6,
   "id": "c29470c2-36ad-4408-8cb3-c2c11bbe82fe",
   "metadata": {},
   "outputs": [
    {
     "name": "stdout",
     "output_type": "stream",
     "text": [
      "1 A1 B1 C1 D"
     ]
    }
   ],
   "source": [
    "for outer_loop_number in range(1,2):\n",
    "    for innner_loop_character in \"ABCD\":\n",
    "        print(outer_loop_number, innner_loop_character, end='')"
   ]
  },
  {
   "cell_type": "code",
   "execution_count": null,
   "id": "f8b7e3d9-ee6b-4b59-883d-734fe70befcf",
   "metadata": {},
   "outputs": [],
   "source": [
    "for character in \"analytics\":\n",
    "    if (character == \"a\") or (character == \"i\"):\n",
    "        print(\"x\", end = ' ')\n",
    "    else: \n",
    "        print(character, end=\"x\")"
   ]
  },
  {
   "cell_type": "code",
   "execution_count": null,
   "id": "485a03b6-3555-40ba-99f3-b33c84485aad",
   "metadata": {},
   "outputs": [],
   "source": []
  },
  {
   "cell_type": "code",
   "execution_count": 24,
   "id": "706bf6ab-5803-4682-9530-058e26e46f2f",
   "metadata": {},
   "outputs": [
    {
     "name": "stdout",
     "output_type": "stream",
     "text": [
      "10 9 "
     ]
    }
   ],
   "source": [
    "number = 10\n",
    "\n",
    "while number > 5:\n",
    "    print(number, end = ' ')\n",
    "\n",
    "    number = number - 1\n",
    "\n",
    "    if number == 8:\n",
    "        number = 2"
   ]
  },
  {
   "cell_type": "code",
   "execution_count": 1,
   "id": "e1ce4876-18ff-4cd0-9492-ebd72fc51914",
   "metadata": {},
   "outputs": [
    {
     "data": {
      "text/plain": [
       "'A'"
      ]
     },
     "execution_count": 1,
     "metadata": {},
     "output_type": "execute_result"
    }
   ],
   "source": [
    "my_list = [['A', 'B'],\n",
    "           ['X', 'A'],\n",
    "           ['B', 'A'],\n",
    "           ['A', 'X']]\n",
    "my_list[2][1]"
   ]
  },
  {
   "cell_type": "code",
   "execution_count": 2,
   "id": "66e36cdb-e4f0-45d5-878b-752b2f596b5e",
   "metadata": {},
   "outputs": [
    {
     "name": "stdout",
     "output_type": "stream",
     "text": [
      "[1, 3, 4, [5, 6]]\n"
     ]
    }
   ],
   "source": [
    "list = [1,3,4]\n",
    "list.append([5,6])\n",
    "print(list)"
   ]
  },
  {
   "cell_type": "code",
   "execution_count": 19,
   "id": "ece9068e-ab2e-42be-a7df-9b1980f89514",
   "metadata": {},
   "outputs": [
    {
     "name": "stdout",
     "output_type": "stream",
     "text": [
      "[4, 5, 6, 7, 4, 3, 4, [9, 8]]\n",
      "True\n"
     ]
    }
   ],
   "source": [
    "list = [4,5,6,7,4,3,4]\n",
    "list.append([9,8])\n",
    "print(list)\n",
    "del list[-2]\n",
    "print([9,8] in list)\n"
   ]
  },
  {
   "cell_type": "code",
   "execution_count": null,
   "id": "9a4c9e56-1204-4166-8923-6666a8a24602",
   "metadata": {},
   "outputs": [],
   "source": []
  },
  {
   "cell_type": "code",
   "execution_count": 23,
   "id": "0e2141d5-95c6-40d4-815d-26a2185d73bf",
   "metadata": {},
   "outputs": [
    {
     "data": {
      "text/plain": [
       "6"
      ]
     },
     "execution_count": 23,
     "metadata": {},
     "output_type": "execute_result"
    }
   ],
   "source": [
    "my_tuple = ('A','B', 'C', 'D', 'E', 'E', 1, 'D')\n",
    "\n",
    "my_tuple.index(1)"
   ]
  },
  {
   "cell_type": "code",
   "execution_count": 25,
   "id": "bbdf0192-acf0-474b-8df9-e05a89a5ecc9",
   "metadata": {},
   "outputs": [
    {
     "name": "stdout",
     "output_type": "stream",
     "text": [
      "(1, 1)\n"
     ]
    }
   ],
   "source": [
    "my_tuple = ((1,2,3,1),\n",
    "            (1,1,1,2),\n",
    "            (2,1,2,1),\n",
    "            (1,2,1,1)\n",
    "           )\n",
    "\n",
    "print(my_tuple[1][1:3])"
   ]
  },
  {
   "cell_type": "code",
   "execution_count": 27,
   "id": "dff3d930-7568-483d-bf4c-51f61f7653ff",
   "metadata": {},
   "outputs": [
    {
     "name": "stdout",
     "output_type": "stream",
     "text": [
      "<class 'str'> <class 'tuple'>\n"
     ]
    }
   ],
   "source": [
    "my_tuple = ('Analytics')\n",
    "my_tuple1 = ('Analytics',)\n",
    "\n",
    "print(type(my_tuple), type(my_tuple1))"
   ]
  }
 ],
 "metadata": {
  "kernelspec": {
   "display_name": "Python 3 (ipykernel)",
   "language": "python",
   "name": "python3"
  },
  "language_info": {
   "codemirror_mode": {
    "name": "ipython",
    "version": 3
   },
   "file_extension": ".py",
   "mimetype": "text/x-python",
   "name": "python",
   "nbconvert_exporter": "python",
   "pygments_lexer": "ipython3",
   "version": "3.11.7"
  }
 },
 "nbformat": 4,
 "nbformat_minor": 5
}
